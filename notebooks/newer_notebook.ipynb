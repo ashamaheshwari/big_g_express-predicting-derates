{
 "cells": [
  {
   "cell_type": "code",
   "execution_count": null,
   "id": "1f425c2e",
   "metadata": {},
   "outputs": [],
   "source": [
    "import pandas as pd\n",
    "import numpy as np"
   ]
  },
  {
   "cell_type": "code",
   "execution_count": null,
   "id": "2b7a4fd9",
   "metadata": {},
   "outputs": [],
   "source": [
    "pd.set_option('display.max_columns', None)"
   ]
  },
  {
   "cell_type": "code",
   "execution_count": null,
   "id": "201637f0",
   "metadata": {},
   "outputs": [],
   "source": [
    "service_fault_codes = pd.read_excel('Service Fault Codes_1_0_0_167.xlsx')\n",
    "faults = pd.read_csv('J1939Faults.csv', low_memory=False)\n",
    "diagnostics = pd.read_csv('VehicleDiagnosticOnboardData.csv', low_memory=False)"
   ]
  },
  {
   "cell_type": "code",
   "execution_count": null,
   "id": "be709f80",
   "metadata": {},
   "outputs": [],
   "source": [
    "# Define the service locations\n",
    "service_locations = [(36.0666667, -86.4347222), (35.5883333, -86.4438888), (36.1950, -83.174722)]\n",
    "\n",
    "# Filter out faults occurring within 2 miles of service locations\n",
    "for loc in service_locations:\n",
    "    lat_mile = 2/69 # Convert 2 miles to degrees of latitude\n",
    "    lon_mile = 1/(69*np.cos(np.radians(loc[0]))) * 2 # Convert 2 miles to degrees of longitude at the given latitude\n",
    "    faults = faults[(np.abs(faults['Latitude'] - loc[0]) > lat_mile) | (np.abs(faults['Longitude'] - loc[1]) > lon_mile)]\n",
    "faults = faults[faults['EquipmentID'].str.len() <= 5]\n",
    "faults"
   ]
  },
  {
   "cell_type": "code",
   "execution_count": null,
   "id": "99cc8394",
   "metadata": {},
   "outputs": [],
   "source": [
    "wide_diag = diagnostics.pivot(index='FaultId', columns='Name', values='Value')"
   ]
  },
  {
   "cell_type": "code",
   "execution_count": null,
   "id": "547a4073",
   "metadata": {},
   "outputs": [],
   "source": [
    "fault_diag = pd.merge(left = faults,\n",
    "         right = wide_diag,\n",
    "         left_on = 'RecordID',\n",
    "         right_on = 'FaultId'\n",
    "        )\n",
    "fault_diag"
   ]
  },
  {
   "cell_type": "code",
   "execution_count": null,
   "id": "e3303b38",
   "metadata": {},
   "outputs": [],
   "source": [
    "derates=fault_diag.loc[fault_diag['spn'].isin([5246, 1569])]\n",
    "full_derate = derates.loc[derates['spn'].isin([5246])]\n",
    "full_derate"
   ]
  },
  {
   "cell_type": "code",
   "execution_count": null,
   "id": "01f0a73f",
   "metadata": {},
   "outputs": [],
   "source": [
    "# Extract unique EquipmentID numbers from full_derate\n",
    "unique_equip_ids = full_derate['EquipmentID'].unique()\n",
    "\n",
    "# Filter rows in fault_diag based on unique_equip_ids\n",
    "fault_diag_filtered = fault_diag[fault_diag['EquipmentID'].isin(unique_equip_ids)]\n",
    "fault_diag_filtered"
   ]
  },
  {
   "cell_type": "code",
   "execution_count": null,
   "id": "b7d4d406",
   "metadata": {},
   "outputs": [],
   "source": [
    "fault_diag_filtered = fault_diag_filtered[fault_diag_filtered['active'] == True]\n",
    "fault_diag_filtered"
   ]
  },
  {
   "cell_type": "code",
   "execution_count": null,
   "id": "698b3a90",
   "metadata": {},
   "outputs": [],
   "source": [
    "fault_diag_filtered = fault_diag_filtered.sort_values(by=['EquipmentID','EventTimeStamp'], ascending=[True, True])"
   ]
  },
  {
   "cell_type": "code",
   "execution_count": null,
   "id": "b499509c",
   "metadata": {},
   "outputs": [],
   "source": [
    "fault_diag_filtered = fault_diag_filtered.drop(columns=['ParkingBrake','LocationTimeStamp','active','CruiseControlActive', 'CruiseControlSetSpeed', 'MCTNumber', 'ecuSoftwareVersion', 'ecuSerialNumber','actionDescription', 'faultValue', 'ServiceDistance', 'SwitchedBatteryVoltage'])\n",
    "fault_diag_filtered"
   ]
  },
  {
   "cell_type": "code",
   "execution_count": null,
   "id": "2f8883ac",
   "metadata": {},
   "outputs": [],
   "source": [
    "fault_diag_filtered['EventTimeStamp'] = pd.to_datetime(fault_diag_filtered['EventTimeStamp'])\n",
    "fault_diag_filtered = fault_diag_filtered.replace(',', '.', regex=True)"
   ]
  },
  {
   "cell_type": "code",
   "execution_count": null,
   "id": "d3f120cd",
   "metadata": {},
   "outputs": [],
   "source": [
    "# Create a groupby object using the 'EquipmentID' column\n",
    "groups = fault_diag_filtered.groupby('EquipmentID')\n",
    "\n",
    "# Define a function to apply to each group to interpolate missing values using ffill\n",
    "def interpolate_group(group):\n",
    "    return group.ffill()\n",
    "\n",
    "# Apply the function to each group and concatenate the results back into a single DataFrame\n",
    "interpolated = pd.concat([interpolate_group(group) for _, group in groups])\n",
    "interpolated"
   ]
  },
  {
   "cell_type": "code",
   "execution_count": null,
   "id": "713f5d6b",
   "metadata": {},
   "outputs": [],
   "source": [
    "# Create a groupby object using the 'EquipmentID' column\n",
    "groups = interpolated.groupby('EquipmentID')\n",
    "\n",
    "# Define a function to apply to each group to interpolate missing values using ffill\n",
    "def interpolate_group(group):\n",
    "    return group.bfill()\n",
    "\n",
    "# Apply the function to each group and concatenate the results back into a single DataFrame\n",
    "interpolated_bfill = pd.concat([interpolate_group(group) for _, group in groups])\n",
    "interpolated_bfill"
   ]
  },
  {
   "cell_type": "code",
   "execution_count": null,
   "id": "701a61da",
   "metadata": {},
   "outputs": [],
   "source": [
    "interpolated_bfill = interpolated_bfill.bfill()\n",
    "\n",
    "# Define columns to impute with mode\n",
    "cols_to_impute = ['ecuModel', 'ecuMake', 'AcceleratorPedal', 'EngineTimeLtd', 'FuelLevel', 'FuelTemperature', 'Throttle']\n",
    "\n",
    "# Group by EquipmentID and impute missing values with mode\n",
    "grouped = interpolated_bfill.groupby('EquipmentID')[cols_to_impute].apply(lambda x: x.fillna(x.mode().iloc[0]))\n",
    "\n",
    "# Update the original DataFrame with imputed values\n",
    "interpolated_bfill[cols_to_impute] = grouped[cols_to_impute]\n",
    "interpolated_bfill"
   ]
  },
  {
   "cell_type": "code",
   "execution_count": null,
   "id": "224dd238",
   "metadata": {},
   "outputs": [],
   "source": [
    "int_cols = [\"AcceleratorPedal\", \"BarometricPressure\", \"DistanceLtd\", \"EngineCoolantTemperature\", \"EngineLoad\",\n",
    "            \"EngineOilPressure\", \"EngineOilTemperature\", \"EngineRpm\", \"EngineTimeLtd\", \"FuelLevel\", \"FuelLtd\",\n",
    "            \"FuelRate\", \"FuelTemperature\", \"IntakeManifoldTemperature\", \"LampStatus\", \"Speed\", \"Throttle\",\n",
    "            \"TurboBoostPressure\"]\n",
    "\n",
    "# convert columns to int64\n",
    "interpolated_bfill[int_cols] = interpolated_bfill[int_cols].astype(\"float\")"
   ]
  },
  {
   "cell_type": "code",
   "execution_count": null,
   "id": "1d8fdc62",
   "metadata": {},
   "outputs": [],
   "source": [
    "equipment_ids_to_drop = ['302', '1878', '1585', '1961', '2007']\n",
    "interpolated_drop = interpolated_bfill[~interpolated_bfill['EquipmentID'].isin(equipment_ids_to_drop)]\n",
    "interpolated_drop"
   ]
  },
  {
   "cell_type": "code",
   "execution_count": null,
   "id": "b6ad2951",
   "metadata": {},
   "outputs": [],
   "source": [
    "def mileage_to_spn(interpolated_drop):\n",
    "    result = []\n",
    "    for eq_id, eq_df in interpolated_drop.groupby('EquipmentID'):\n",
    "        earliest_mileage = eq_df['DistanceLtd'].iloc[0]\n",
    "        spn_mileage = eq_df.loc[eq_df['spn'] == 5246, 'DistanceLtd'].iloc[0]\n",
    "        result.append((eq_id, spn_mileage - earliest_mileage))\n",
    "    return result\n",
    "\n",
    "mileage_to_spn_df = pd.DataFrame(mileage_to_spn(interpolated_drop), columns=['EquipmentID', 'mileage_to_spn'])\n",
    "# calculate the mean excluding rows where value is zero\n",
    "overall_avg_mileage = mileage_to_spn_df.loc[mileage_to_spn_df['mileage_to_spn'] != 0, 'mileage_to_spn'].mean()\n",
    "mileage_to_spn_df['overall_avg_mileage'] = overall_avg_mileage\n",
    "\n",
    "def time_to_spn(interpolated_drop):\n",
    "    result = []\n",
    "    for eq_id, eq_df in interpolated_drop.groupby('EquipmentID'):\n",
    "        earliest_timestamp = eq_df['EventTimeStamp'].iloc[0]\n",
    "        spn_timestamp = eq_df.loc[eq_df['spn'] == 5246, 'EventTimeStamp'].iloc[0]\n",
    "        result.append((eq_id, spn_timestamp - earliest_timestamp))\n",
    "    return result\n",
    "\n",
    "time_to_spn_df = pd.DataFrame(time_to_spn(interpolated_drop), columns=['EquipmentID', 'time_to_spn'])\n",
    "overall_avg_time = time_to_spn_df.loc[time_to_spn_df['time_to_spn'] != pd.Timedelta(0), 'time_to_spn'].mean()\n",
    "time_to_spn_df['overall_avg_time'] = overall_avg_time\n",
    "\n",
    "def eng_time_to_spn(interpolated_drop):\n",
    "    result = []\n",
    "    for eq_id, eq_df in interpolated_drop.groupby('EquipmentID'):\n",
    "        earliest_eng_time = eq_df['EngineTimeLtd'].iloc[0]\n",
    "        spn_eng_time = eq_df.loc[eq_df['spn'] == 5246, 'EngineTimeLtd'].iloc[0]\n",
    "        result.append((eq_id, spn_eng_time - earliest_eng_time))\n",
    "    return result\n",
    "\n",
    "eng_time_to_spn_df = pd.DataFrame(eng_time_to_spn(interpolated_drop), columns=['EquipmentID', 'eng_time_to_spn'])\n",
    "overall_avg_eng_time = eng_time_to_spn_df.loc[eng_time_to_spn_df['eng_time_to_spn'] != 0, 'eng_time_to_spn'].mean()\n",
    "eng_time_to_spn_df['overall_avg_eng_time'] = overall_avg_eng_time\n",
    "\n",
    "def fuel_time_to_spn(interpolated_drop):\n",
    "    result = []\n",
    "    for eq_id, eq_df in interpolated_drop.groupby('EquipmentID'):\n",
    "        earliest_fuel_time = eq_df['FuelLtd'].iloc[0]\n",
    "        spn_fuel_time = eq_df.loc[eq_df['spn'] == 5246, 'FuelLtd'].iloc[0]\n",
    "        result.append((eq_id, spn_fuel_time - earliest_fuel_time))\n",
    "    return result\n",
    "\n",
    "fuel_time_to_spn_df = pd.DataFrame(fuel_time_to_spn(interpolated_drop), columns=['EquipmentID', 'fuel_time_to_spn'])\n",
    "overall_avg_fuel_time = fuel_time_to_spn_df.loc[fuel_time_to_spn_df['fuel_time_to_spn'] != 0, 'fuel_time_to_spn'].mean()\n",
    "fuel_time_to_spn_df['overall_avg_fuel_time'] = overall_avg_fuel_time\n",
    "\n",
    "merged_df = pd.merge(interpolated_drop, mileage_to_spn_df, on='EquipmentID')\n",
    "merged_df = pd.merge(merged_df, time_to_spn_df, on='EquipmentID')\n",
    "merged_df = pd.merge(merged_df, eng_time_to_spn_df, on='EquipmentID')\n",
    "merged_df = pd.merge(merged_df, fuel_time_to_spn_df, on='EquipmentID')\n",
    "merged_df"
   ]
  },
  {
   "cell_type": "code",
   "execution_count": null,
   "id": "d42198c6",
   "metadata": {},
   "outputs": [],
   "source": [
    "# find the first occurrence of spn = 5246 for each EquipmentID\n",
    "earliest_timestamps = interpolated_drop.loc[interpolated_drop['spn'] == 5246] \\\n",
    "    .groupby('EquipmentID')['EventTimeStamp'].first()\n",
    "\n",
    "# create a new column with the time difference in hours between each row and the first occurrence of spn = 5246 for each EquipmentID\n",
    "interpolated_drop['time_diff'] = (interpolated_drop['EventTimeStamp'] - interpolated_drop['EquipmentID'].map(earliest_timestamps)) \\\n",
    "    .dt.total_seconds() / 3600\n",
    "\n",
    "# filter the dataframe to keep only the rows where the time difference is less than or equal to 8 hours\n",
    "filtered_df = interpolated_drop.loc[(interpolated_drop['EquipmentID'].isin(earliest_timestamps.index)) \n",
    "    & (interpolated_drop['time_diff'] >= -24)\n",
    "    & (interpolated_drop['time_diff'] <= 0)]\n",
    "filtered_df"
   ]
  },
  {
   "cell_type": "code",
   "execution_count": null,
   "id": "0b829144",
   "metadata": {},
   "outputs": [],
   "source": [
    "filtered_df.groupby(['spn', 'fmi', 'eventDescription']).size().reset_index(name='count').sort_values('count', ascending=False).head(40)"
   ]
  },
  {
   "cell_type": "code",
   "execution_count": null,
   "id": "ace91195",
   "metadata": {},
   "outputs": [],
   "source": [
    "# Create target column with spn, fmi combos\n",
    "def check_spn_fmi(row):\n",
    "    spn_fmi_pairs = [\n",
    "        (1569, 31), (4094, 18), (3362, 31), (5394, 17),\n",
    "        (1761, 19), (1761, 9), (5394, 5), (3364, 9),\n",
    "        (3216, 9), (6802, 31), (3031, 9), (3226, 9),\n",
    "        (929, 9), (96, 3), (74, 14), (1068, 2),\n",
    "        (5742, 9), (1787, 11), (5743, 9), (829, 3),\n",
    "        (3216, 4), (4094, 31)\n",
    "    ]\n",
    "    spn = row['spn']\n",
    "    fmi = row['fmi']\n",
    "    if (spn, fmi) in spn_fmi_pairs:\n",
    "        return 1\n",
    "    else:\n",
    "        return 0\n",
    "\n",
    "filtered_df['target'] = filtered_df.apply(check_spn_fmi, axis=1)\n",
    "filtered_df"
   ]
  },
  {
   "cell_type": "code",
   "execution_count": null,
   "id": "df1c8899",
   "metadata": {},
   "outputs": [],
   "source": [
    "ml_features = filtered_df.drop(columns=['LampStatus','eventDescription','EventTimeStamp','RecordID', 'ESS_Id','EquipmentID','spn','fmi'], axis=1)"
   ]
  },
  {
   "cell_type": "code",
   "execution_count": null,
   "id": "c9729843",
   "metadata": {},
   "outputs": [],
   "source": [
    "from pycaret.classification import *\n",
    "\n",
    "# create time series split\n",
    "split = int(len(ml_features)*0.8)\n",
    "train_data = ml_features[:split]\n",
    "test_data = ml_features[split:]\n",
    "\n",
    "# setup pycaret\n",
    "clf = setup(data=train_data, target='target', session_id=123, fold_strategy='timeseries')\n",
    "\n",
    "# train model\n",
    "#model = create_model('gbc')\n",
    "#best_model = compare_models()\n",
    "models_to_exclude = ['lightgbm']\n",
    "\n",
    "model=compare_models(exclude=models_to_exclude)\n",
    "\n",
    "# plot feature importance\n",
    "plot_model(model, plot='feature')"
   ]
  },
  {
   "cell_type": "code",
   "execution_count": null,
   "id": "67a1b7ec",
   "metadata": {},
   "outputs": [],
   "source": []
  }
 ],
 "metadata": {
  "kernelspec": {
   "display_name": "Python 3 (ipykernel)",
   "language": "python",
   "name": "python3"
  },
  "language_info": {
   "codemirror_mode": {
    "name": "ipython",
    "version": 3
   },
   "file_extension": ".py",
   "mimetype": "text/x-python",
   "name": "python",
   "nbconvert_exporter": "python",
   "pygments_lexer": "ipython3",
   "version": "3.9.12"
  }
 },
 "nbformat": 4,
 "nbformat_minor": 5
}
