{
 "cells": [
  {
   "cell_type": "code",
   "execution_count": 1,
   "id": "24453499",
   "metadata": {},
   "outputs": [],
   "source": [
    "import pandas as pd\n",
    "import numpy as np"
   ]
  },
  {
   "cell_type": "code",
   "execution_count": 3,
   "id": "2fd51efe",
   "metadata": {},
   "outputs": [
    {
     "name": "stderr",
     "output_type": "stream",
     "text": [
      "/opt/anaconda3/lib/python3.9/site-packages/openpyxl/worksheet/_read_only.py:79: UserWarning: Data Validation extension is not supported and will be removed\n",
      "  for idx, row in parser.parse():\n",
      "/var/folders/y2/1hbr5nhn5g74yh6sf24m5s9xr861g0/T/ipykernel_71505/2028990095.py:2: DtypeWarning: Columns (15) have mixed types. Specify dtype option on import or set low_memory=False.\n",
      "  fault_codes = pd.read_csv('J1939Faults.csv')\n"
     ]
    }
   ],
   "source": [
    "service_fault_codes = pd.read_excel('Service Fault Codes_1_0_0_167.xlsx')\n",
    "fault_codes = pd.read_csv('J1939Faults.csv')\n",
    "diagnostics = pd.read_csv('VehicleDiagnosticOnboardData.csv')"
   ]
  },
  {
   "cell_type": "code",
   "execution_count": null,
   "id": "6eb0a513",
   "metadata": {},
   "outputs": [],
   "source": []
  }
 ],
 "metadata": {
  "kernelspec": {
   "display_name": "Python 3 (ipykernel)",
   "language": "python",
   "name": "python3"
  },
  "language_info": {
   "codemirror_mode": {
    "name": "ipython",
    "version": 3
   },
   "file_extension": ".py",
   "mimetype": "text/x-python",
   "name": "python",
   "nbconvert_exporter": "python",
   "pygments_lexer": "ipython3",
   "version": "3.9.12"
  }
 },
 "nbformat": 4,
 "nbformat_minor": 5
}
